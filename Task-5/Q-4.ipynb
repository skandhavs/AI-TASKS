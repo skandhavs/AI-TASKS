{
 "cells": [
  {
   "cell_type": "code",
   "execution_count": 1,
   "id": "55747928",
   "metadata": {},
   "outputs": [],
   "source": [
    "# Ridge Regression\n",
    "import pandas as pd\n",
    "import seaborn as sns"
   ]
  },
  {
   "cell_type": "code",
   "execution_count": 2,
   "id": "0f4c1242",
   "metadata": {},
   "outputs": [
    {
     "data": {
      "text/html": [
       "<div>\n",
       "<style scoped>\n",
       "    .dataframe tbody tr th:only-of-type {\n",
       "        vertical-align: middle;\n",
       "    }\n",
       "\n",
       "    .dataframe tbody tr th {\n",
       "        vertical-align: top;\n",
       "    }\n",
       "\n",
       "    .dataframe thead th {\n",
       "        text-align: right;\n",
       "    }\n",
       "</style>\n",
       "<table border=\"1\" class=\"dataframe\">\n",
       "  <thead>\n",
       "    <tr style=\"text-align: right;\">\n",
       "      <th></th>\n",
       "      <th>survived</th>\n",
       "      <th>pclass</th>\n",
       "      <th>sex</th>\n",
       "      <th>age</th>\n",
       "      <th>sibsp</th>\n",
       "      <th>parch</th>\n",
       "      <th>fare</th>\n",
       "      <th>embarked</th>\n",
       "      <th>class</th>\n",
       "      <th>who</th>\n",
       "      <th>adult_male</th>\n",
       "      <th>deck</th>\n",
       "      <th>embark_town</th>\n",
       "      <th>alive</th>\n",
       "      <th>alone</th>\n",
       "    </tr>\n",
       "  </thead>\n",
       "  <tbody>\n",
       "    <tr>\n",
       "      <th>0</th>\n",
       "      <td>0</td>\n",
       "      <td>3</td>\n",
       "      <td>male</td>\n",
       "      <td>22.0</td>\n",
       "      <td>1</td>\n",
       "      <td>0</td>\n",
       "      <td>7.2500</td>\n",
       "      <td>S</td>\n",
       "      <td>Third</td>\n",
       "      <td>man</td>\n",
       "      <td>True</td>\n",
       "      <td>NaN</td>\n",
       "      <td>Southampton</td>\n",
       "      <td>no</td>\n",
       "      <td>False</td>\n",
       "    </tr>\n",
       "    <tr>\n",
       "      <th>1</th>\n",
       "      <td>1</td>\n",
       "      <td>1</td>\n",
       "      <td>female</td>\n",
       "      <td>38.0</td>\n",
       "      <td>1</td>\n",
       "      <td>0</td>\n",
       "      <td>71.2833</td>\n",
       "      <td>C</td>\n",
       "      <td>First</td>\n",
       "      <td>woman</td>\n",
       "      <td>False</td>\n",
       "      <td>C</td>\n",
       "      <td>Cherbourg</td>\n",
       "      <td>yes</td>\n",
       "      <td>False</td>\n",
       "    </tr>\n",
       "    <tr>\n",
       "      <th>2</th>\n",
       "      <td>1</td>\n",
       "      <td>3</td>\n",
       "      <td>female</td>\n",
       "      <td>26.0</td>\n",
       "      <td>0</td>\n",
       "      <td>0</td>\n",
       "      <td>7.9250</td>\n",
       "      <td>S</td>\n",
       "      <td>Third</td>\n",
       "      <td>woman</td>\n",
       "      <td>False</td>\n",
       "      <td>NaN</td>\n",
       "      <td>Southampton</td>\n",
       "      <td>yes</td>\n",
       "      <td>True</td>\n",
       "    </tr>\n",
       "    <tr>\n",
       "      <th>3</th>\n",
       "      <td>1</td>\n",
       "      <td>1</td>\n",
       "      <td>female</td>\n",
       "      <td>35.0</td>\n",
       "      <td>1</td>\n",
       "      <td>0</td>\n",
       "      <td>53.1000</td>\n",
       "      <td>S</td>\n",
       "      <td>First</td>\n",
       "      <td>woman</td>\n",
       "      <td>False</td>\n",
       "      <td>C</td>\n",
       "      <td>Southampton</td>\n",
       "      <td>yes</td>\n",
       "      <td>False</td>\n",
       "    </tr>\n",
       "    <tr>\n",
       "      <th>4</th>\n",
       "      <td>0</td>\n",
       "      <td>3</td>\n",
       "      <td>male</td>\n",
       "      <td>35.0</td>\n",
       "      <td>0</td>\n",
       "      <td>0</td>\n",
       "      <td>8.0500</td>\n",
       "      <td>S</td>\n",
       "      <td>Third</td>\n",
       "      <td>man</td>\n",
       "      <td>True</td>\n",
       "      <td>NaN</td>\n",
       "      <td>Southampton</td>\n",
       "      <td>no</td>\n",
       "      <td>True</td>\n",
       "    </tr>\n",
       "  </tbody>\n",
       "</table>\n",
       "</div>"
      ],
      "text/plain": [
       "   survived  pclass     sex   age  sibsp  parch     fare embarked  class  \\\n",
       "0         0       3    male  22.0      1      0   7.2500        S  Third   \n",
       "1         1       1  female  38.0      1      0  71.2833        C  First   \n",
       "2         1       3  female  26.0      0      0   7.9250        S  Third   \n",
       "3         1       1  female  35.0      1      0  53.1000        S  First   \n",
       "4         0       3    male  35.0      0      0   8.0500        S  Third   \n",
       "\n",
       "     who  adult_male deck  embark_town alive  alone  \n",
       "0    man        True  NaN  Southampton    no  False  \n",
       "1  woman       False    C    Cherbourg   yes  False  \n",
       "2  woman       False  NaN  Southampton   yes   True  \n",
       "3  woman       False    C  Southampton   yes  False  \n",
       "4    man        True  NaN  Southampton    no   True  "
      ]
     },
     "execution_count": 2,
     "metadata": {},
     "output_type": "execute_result"
    }
   ],
   "source": [
    "df=sns.load_dataset('titanic')\n",
    "df.head()"
   ]
  },
  {
   "cell_type": "code",
   "execution_count": 3,
   "id": "9ceb6e92",
   "metadata": {},
   "outputs": [
    {
     "data": {
      "text/plain": [
       "survived         0\n",
       "pclass           0\n",
       "sex              0\n",
       "age            177\n",
       "sibsp            0\n",
       "parch            0\n",
       "fare             0\n",
       "embarked         2\n",
       "class            0\n",
       "who              0\n",
       "adult_male       0\n",
       "deck           688\n",
       "embark_town      2\n",
       "alive            0\n",
       "alone            0\n",
       "dtype: int64"
      ]
     },
     "execution_count": 3,
     "metadata": {},
     "output_type": "execute_result"
    }
   ],
   "source": [
    "df.isnull().sum()"
   ]
  },
  {
   "cell_type": "code",
   "execution_count": 4,
   "id": "07341ecc",
   "metadata": {},
   "outputs": [],
   "source": [
    "#Dropping Columns\n",
    "df=df.drop(\"deck\",axis=1)\n",
    "df=df.drop(\"embark_town\",axis=1)\n",
    "df=df.drop(\"alive\",axis=1)\n",
    "df=df.drop(\"adult_male\",axis=1)\n",
    "df=df.drop(\"pclass\",axis=1)\n",
    "df=df.drop(\"who\",axis=1)\n",
    "df=df.drop(\"alone\",axis=1)\n",
    "df=df.drop(\"embarked\",axis=1)"
   ]
  },
  {
   "cell_type": "code",
   "execution_count": 5,
   "id": "02228da8",
   "metadata": {},
   "outputs": [],
   "source": [
    "df.dropna(inplace=True)"
   ]
  },
  {
   "cell_type": "code",
   "execution_count": 6,
   "id": "e2f68fe7",
   "metadata": {},
   "outputs": [
    {
     "data": {
      "text/plain": [
       "survived    0\n",
       "sex         0\n",
       "age         0\n",
       "sibsp       0\n",
       "parch       0\n",
       "fare        0\n",
       "class       0\n",
       "dtype: int64"
      ]
     },
     "execution_count": 6,
     "metadata": {},
     "output_type": "execute_result"
    }
   ],
   "source": [
    "df.isnull().sum()"
   ]
  },
  {
   "cell_type": "code",
   "execution_count": 7,
   "id": "8f94c93a",
   "metadata": {},
   "outputs": [
    {
     "data": {
      "text/html": [
       "<div>\n",
       "<style scoped>\n",
       "    .dataframe tbody tr th:only-of-type {\n",
       "        vertical-align: middle;\n",
       "    }\n",
       "\n",
       "    .dataframe tbody tr th {\n",
       "        vertical-align: top;\n",
       "    }\n",
       "\n",
       "    .dataframe thead th {\n",
       "        text-align: right;\n",
       "    }\n",
       "</style>\n",
       "<table border=\"1\" class=\"dataframe\">\n",
       "  <thead>\n",
       "    <tr style=\"text-align: right;\">\n",
       "      <th></th>\n",
       "      <th>survived</th>\n",
       "      <th>sex</th>\n",
       "      <th>age</th>\n",
       "      <th>sibsp</th>\n",
       "      <th>parch</th>\n",
       "      <th>fare</th>\n",
       "      <th>class</th>\n",
       "    </tr>\n",
       "  </thead>\n",
       "  <tbody>\n",
       "    <tr>\n",
       "      <th>0</th>\n",
       "      <td>0</td>\n",
       "      <td>0</td>\n",
       "      <td>22.0</td>\n",
       "      <td>1</td>\n",
       "      <td>0</td>\n",
       "      <td>7.2500</td>\n",
       "      <td>3</td>\n",
       "    </tr>\n",
       "    <tr>\n",
       "      <th>1</th>\n",
       "      <td>1</td>\n",
       "      <td>1</td>\n",
       "      <td>38.0</td>\n",
       "      <td>1</td>\n",
       "      <td>0</td>\n",
       "      <td>71.2833</td>\n",
       "      <td>1</td>\n",
       "    </tr>\n",
       "    <tr>\n",
       "      <th>2</th>\n",
       "      <td>1</td>\n",
       "      <td>1</td>\n",
       "      <td>26.0</td>\n",
       "      <td>0</td>\n",
       "      <td>0</td>\n",
       "      <td>7.9250</td>\n",
       "      <td>3</td>\n",
       "    </tr>\n",
       "    <tr>\n",
       "      <th>3</th>\n",
       "      <td>1</td>\n",
       "      <td>1</td>\n",
       "      <td>35.0</td>\n",
       "      <td>1</td>\n",
       "      <td>0</td>\n",
       "      <td>53.1000</td>\n",
       "      <td>1</td>\n",
       "    </tr>\n",
       "    <tr>\n",
       "      <th>4</th>\n",
       "      <td>0</td>\n",
       "      <td>0</td>\n",
       "      <td>35.0</td>\n",
       "      <td>0</td>\n",
       "      <td>0</td>\n",
       "      <td>8.0500</td>\n",
       "      <td>3</td>\n",
       "    </tr>\n",
       "  </tbody>\n",
       "</table>\n",
       "</div>"
      ],
      "text/plain": [
       "   survived  sex   age  sibsp  parch     fare class\n",
       "0         0    0  22.0      1      0   7.2500     3\n",
       "1         1    1  38.0      1      0  71.2833     1\n",
       "2         1    1  26.0      0      0   7.9250     3\n",
       "3         1    1  35.0      1      0  53.1000     1\n",
       "4         0    0  35.0      0      0   8.0500     3"
      ]
     },
     "execution_count": 7,
     "metadata": {},
     "output_type": "execute_result"
    }
   ],
   "source": [
    "# Mapping string values \n",
    "df.sex=df.sex.map({'male':0,'female':1})\n",
    "df['class']=df['class'].map({'First':1,'Second':2,'Third':3})\n",
    "df.head()"
   ]
  },
  {
   "cell_type": "code",
   "execution_count": 8,
   "id": "2f043351",
   "metadata": {},
   "outputs": [
    {
     "data": {
      "text/plain": [
       "<AxesSubplot:xlabel='sex', ylabel='survived'>"
      ]
     },
     "execution_count": 8,
     "metadata": {},
     "output_type": "execute_result"
    },
    {
     "data": {
      "image/png": "[encoded data removed]",
      "text/plain": [
       "<Figure size 432x288 with 1 Axes>"
      ]
     },
     "metadata": {
      "needs_background": "light"
     },
     "output_type": "display_data"
    }
   ],
   "source": [
    "#Visualisation\n",
    "sns.barplot(x = 'sex', y = 'survived', data = df)"
   ]
  },
  {
   "cell_type": "code",
   "execution_count": 9,
   "id": "71d38d07",
   "metadata": {},
   "outputs": [
    {
     "data": {
      "text/plain": [
       "<AxesSubplot:xlabel='sibsp', ylabel='survived'>"
      ]
     },
     "execution_count": 9,
     "metadata": {},
     "output_type": "execute_result"
    },
    {
     "data": {
      "image/png": "[encoded data removed]",
      "text/plain": [
       "<Figure size 432x288 with 1 Axes>"
      ]
     },
     "metadata": {
      "needs_background": "light"
     },
     "output_type": "display_data"
    }
   ],
   "source": [
    "sns.barplot(x = 'sibsp', y = 'survived', data = df)"
   ]
  },
  {
   "cell_type": "code",
   "execution_count": 10,
   "id": "7e7c8bfe",
   "metadata": {},
   "outputs": [
    {
     "data": {
      "text/plain": [
       "<AxesSubplot:xlabel='parch', ylabel='survived'>"
      ]
     },
     "execution_count": 10,
     "metadata": {},
     "output_type": "execute_result"
    },
    {
     "data": {
      "image/png": "[encoded data removed]",
      "text/plain": [
       "<Figure size 432x288 with 1 Axes>"
      ]
     },
     "metadata": {
      "needs_background": "light"
     },
     "output_type": "display_data"
    }
   ],
   "source": [
    "sns.barplot(x = 'parch', y = 'survived', data = df)"
   ]
  },
  {
   "cell_type": "code",
   "execution_count": 11,
   "id": "f5ea24c7",
   "metadata": {},
   "outputs": [
    {
     "data": {
      "text/plain": [
       "<AxesSubplot:xlabel='class', ylabel='survived'>"
      ]
     },
     "execution_count": 11,
     "metadata": {},
     "output_type": "execute_result"
    },
    {
     "data": {
      "image/png": "[encoded data removed]",
      "text/plain": [
       "<Figure size 432x288 with 1 Axes>"
      ]
     },
     "metadata": {
      "needs_background": "light"
     },
     "output_type": "display_data"
    }
   ],
   "source": [
    "sns.barplot(x = 'class', y = 'survived', data = df)"
   ]
  },
  {
   "cell_type": "code",
   "execution_count": 12,
   "id": "66f6f7de",
   "metadata": {},
   "outputs": [
    {
     "data": {
      "text/plain": [
       "<seaborn.axisgrid.FacetGrid at 0x259639407c0>"
      ]
     },
     "execution_count": 12,
     "metadata": {},
     "output_type": "execute_result"
    },
    {
     "data": {
      "image/png": "[encoded data removed]",
      "text/plain": [
       "<Figure size 1158.88x360 with 1 Axes>"
      ]
     },
     "metadata": {
      "needs_background": "light"
     },
     "output_type": "display_data"
    }
   ],
   "source": [
    "#Count/Density Curve\n",
    "sns.displot(df,aspect=3)"
   ]
  },
  {
   "cell_type": "code",
   "execution_count": 13,
   "id": "cd62decc",
   "metadata": {},
   "outputs": [],
   "source": [
    "y=df['survived']\n",
    "df=df.drop('survived',axis=1)\n",
    "x=df"
   ]
  },
  {
   "cell_type": "code",
   "execution_count": 14,
   "id": "b2a1fdf8",
   "metadata": {},
   "outputs": [],
   "source": [
    "from sklearn.linear_model import Ridge\n",
    "from sklearn.model_selection import train_test_split\n",
    "from sklearn.metrics import classification_report,confusion_matrix,accuracy_score"
   ]
  },
  {
   "cell_type": "code",
   "execution_count": 15,
   "id": "6d32f2e1",
   "metadata": {},
   "outputs": [],
   "source": [
    "#Training\n",
    "X_train, X_test, y_train, y_test = train_test_split(x, y, test_size=0.33, random_state=0)"
   ]
  },
  {
   "cell_type": "code",
   "execution_count": 16,
   "id": "6436a910",
   "metadata": {},
   "outputs": [],
   "source": [
    "rid = Ridge(normalize=True)"
   ]
  },
  {
   "cell_type": "code",
   "execution_count": 17,
   "id": "32793790",
   "metadata": {},
   "outputs": [
    {
     "data": {
      "text/plain": [
       "Ridge(normalize=True)"
      ]
     },
     "execution_count": 17,
     "metadata": {},
     "output_type": "execute_result"
    }
   ],
   "source": [
    "rid.fit( X_train , y_train )"
   ]
  },
  {
   "cell_type": "code",
   "execution_count": 18,
   "id": "7c1dbe8e",
   "metadata": {},
   "outputs": [],
   "source": [
    "pred = rid.predict( X_test )"
   ]
  },
  {
   "cell_type": "code",
   "execution_count": 19,
   "id": "26353419",
   "metadata": {},
   "outputs": [
    {
     "data": {
      "text/plain": [
       "array([0.4808492 , 0.62986547, 0.58844152, 0.31472233, 0.43946827,\n",
       "       0.2280043 , 0.33132702, 0.39101829, 0.35353809, 0.41022353,\n",
       "       0.25000894, 0.48409944, 0.54735075, 0.22522471, 0.33000604,\n",
       "       0.51896944, 0.32071479, 0.52679869, 0.51908675, 0.30839091,\n",
       "       0.25368578, 0.54893172, 0.60092105, 0.21858267, 0.23288726,\n",
       "       0.52679869, 0.73612935, 0.39008877, 0.43797449, 0.43945492,\n",
       "       0.22862768, 0.26434468, 0.2552379 , 0.64510976, 0.22229625,\n",
       "       0.21976472, 0.6700892 , 0.41541685, 0.25425967, 0.49651343,\n",
       "       0.25104669, 0.25207778, 0.40548185, 0.49611185, 0.23709632,\n",
       "       0.53234135, 0.26847858, 0.35199171, 0.22163615, 0.22700575,\n",
       "       0.39237712, 0.58317508, 0.33835385, 0.70234277, 0.5107641 ,\n",
       "       0.47045196, 0.6235531 , 0.22766389, 0.25738203, 0.40508636,\n",
       "       0.51408838, 0.18734227, 0.58453069, 0.25543415, 0.74387099,\n",
       "       0.4758991 , 0.74029181, 0.31516769, 0.82881112, 0.48189126,\n",
       "       0.24954808, 0.4908482 , 0.62041069, 0.68611681, 0.69681429,\n",
       "       0.47067501, 0.50263944, 0.25661689, 0.23501262, 0.34263427,\n",
       "       0.30883493, 0.39362247, 0.4027292 , 0.59758461, 0.61120058,\n",
       "       0.24583856, 0.22532691, 0.53244186, 0.79208632, 0.26940327,\n",
       "       0.70099045, 0.24632292, 0.49030298, 0.24396579, 0.6407828 ,\n",
       "       0.26625809, 0.69414688, 0.51812819, 0.24144217, 0.47307334,\n",
       "       0.47824761, 0.43272586, 0.53858748, 0.42529158, 0.72487996,\n",
       "       0.57068998, 0.7243646 , 0.42680351, 0.78736918, 0.23438174,\n",
       "       0.25208078, 0.22814988, 0.27968783, 0.33389358, 0.5573645 ,\n",
       "       0.22893988, 0.31909196, 0.18210189, 0.58110637, 0.5963725 ,\n",
       "       0.25625416, 0.56662586, 0.2103188 , 0.23831247, 0.41561306,\n",
       "       0.55093142, 0.62505417, 0.19433379, 0.20403278, 0.55749256,\n",
       "       0.6258353 , 0.20089415, 0.59124465, 0.41755706, 0.43768487,\n",
       "       0.25203318, 0.71503683, 0.51770279, 0.31966441, 0.25634336,\n",
       "       0.5649833 , 0.21631271, 0.62883951, 0.55749256, 0.3673047 ,\n",
       "       0.32622882, 0.39666374, 0.47339839, 0.42930178, 0.24993757,\n",
       "       0.49456029, 0.23985502, 0.3056445 , 0.25624731, 0.25867982,\n",
       "       0.24953324, 0.28132379, 0.23617226, 0.24476845, 0.26015993,\n",
       "       0.25151815, 0.37575851, 0.25800384, 0.52664928, 0.2329973 ,\n",
       "       0.60315321, 0.44432243, 0.21441139, 0.49674038, 0.32389693,\n",
       "       0.52574557, 0.49248043, 0.72902009, 0.22766389, 0.26087366,\n",
       "       0.31253082, 0.84729506, 0.53310958, 0.41657239, 0.65340848,\n",
       "       0.20012701, 0.25168829, 0.24347834, 0.23716768, 0.26594352,\n",
       "       0.52574557, 0.26296024, 0.59219349, 0.38804487, 0.60250912,\n",
       "       0.23240856, 0.23930789, 0.24922065, 0.25079496, 0.23192719,\n",
       "       0.49909875, 0.4548027 , 0.39634229, 0.33407343, 0.44336109,\n",
       "       0.72812695, 0.23076789, 0.64199903, 0.23241156, 0.23183805,\n",
       "       0.57204755, 0.42838007, 0.21364621, 0.51147615, 0.27545691,\n",
       "       0.19923531, 0.24565716, 0.2414481 , 0.66807506, 0.37091646,\n",
       "       0.23831247, 0.32372853, 0.4798487 , 0.31966376, 0.36621709,\n",
       "       0.30249962, 0.22701376, 0.20294516, 0.25659324, 0.71447503,\n",
       "       0.33900145, 0.46179405, 0.25846573, 0.25269628, 0.47399005,\n",
       "       0.25680705, 0.2329973 , 0.23838434, 0.26690062, 0.64816846,\n",
       "       0.403073  ])"
      ]
     },
     "execution_count": 19,
     "metadata": {},
     "output_type": "execute_result"
    }
   ],
   "source": [
    "pred"
   ]
  },
  {
   "cell_type": "code",
   "execution_count": 20,
   "id": "c2b30903",
   "metadata": {},
   "outputs": [],
   "source": [
    "#Converting range of values to discrete values\n",
    "for i in range(len(pred)):\n",
    "    if pred[i]>0.5:\n",
    "        pred[i]=1\n",
    "    else:\n",
    "        pred[i]=0"
   ]
  },
  {
   "cell_type": "code",
   "execution_count": 21,
   "id": "b74604d7",
   "metadata": {},
   "outputs": [
    {
     "data": {
      "text/plain": [
       "array([0, 1, 1, 0, 0, 0, 0, 0, 0, 0, 0, 0, 1, 0, 0, 1, 0, 1, 1, 0, 0, 1,\n",
       "       1, 0, 0, 1, 1, 0, 0, 0, 0, 0, 0, 1, 0, 0, 1, 0, 0, 0, 0, 0, 0, 0,\n",
       "       0, 1, 0, 0, 0, 0, 0, 1, 0, 1, 1, 0, 1, 0, 0, 0, 1, 0, 1, 0, 1, 0,\n",
       "       1, 0, 1, 0, 0, 0, 1, 1, 1, 0, 1, 0, 0, 0, 0, 0, 0, 1, 1, 0, 0, 1,\n",
       "       1, 0, 1, 0, 0, 0, 1, 0, 1, 1, 0, 0, 0, 0, 1, 0, 1, 1, 1, 0, 1, 0,\n",
       "       0, 0, 0, 0, 1, 0, 0, 0, 1, 1, 0, 1, 0, 0, 0, 1, 1, 0, 0, 1, 1, 0,\n",
       "       1, 0, 0, 0, 1, 1, 0, 0, 1, 0, 1, 1, 0, 0, 0, 0, 0, 0, 0, 0, 0, 0,\n",
       "       0, 0, 0, 0, 0, 0, 0, 0, 0, 1, 0, 1, 0, 0, 0, 0, 1, 0, 1, 0, 0, 0,\n",
       "       1, 1, 0, 1, 0, 0, 0, 0, 0, 1, 0, 1, 0, 1, 0, 0, 0, 0, 0, 0, 0, 0,\n",
       "       0, 0, 1, 0, 1, 0, 0, 1, 0, 0, 1, 0, 0, 0, 0, 1, 0, 0, 0, 0, 0, 0,\n",
       "       0, 0, 0, 0, 1, 0, 0, 0, 0, 0, 0, 0, 0, 0, 1, 0], dtype=int64)"
      ]
     },
     "execution_count": 21,
     "metadata": {},
     "output_type": "execute_result"
    }
   ],
   "source": [
    "# Changing type and converting pandas series to numpy array\n",
    "pred=pred.astype('int64')\n",
    "pred"
   ]
  },
  {
   "cell_type": "code",
   "execution_count": 22,
   "id": "5e53be60",
   "metadata": {},
   "outputs": [],
   "source": [
    "y_test=y_test.to_numpy()"
   ]
  },
  {
   "cell_type": "code",
   "execution_count": 23,
   "id": "c0920fa8",
   "metadata": {},
   "outputs": [
    {
     "data": {
      "text/plain": [
       "0.8135593220338984"
      ]
     },
     "execution_count": 23,
     "metadata": {},
     "output_type": "execute_result"
    }
   ],
   "source": [
    "# Analysis\n",
    "#Accuracy\n",
    "accuracy_score(y_test,pred)"
   ]
  },
  {
   "cell_type": "code",
   "execution_count": 24,
   "id": "eca31e16",
   "metadata": {},
   "outputs": [
    {
     "name": "stdout",
     "output_type": "stream",
     "text": [
      "[[132  10]\n",
      " [ 34  60]]\n"
     ]
    }
   ],
   "source": [
    "#Confusion Matrix\n",
    "cm=confusion_matrix(y_test,pred)\n",
    "print(cm)"
   ]
  },
  {
   "cell_type": "code",
   "execution_count": 25,
   "id": "d52c023b",
   "metadata": {},
   "outputs": [
    {
     "name": "stdout",
     "output_type": "stream",
     "text": [
      "              precision    recall  f1-score   support\n",
      "\n",
      "           0       0.80      0.93      0.86       142\n",
      "           1       0.86      0.64      0.73        94\n",
      "\n",
      "    accuracy                           0.81       236\n",
      "   macro avg       0.83      0.78      0.79       236\n",
      "weighted avg       0.82      0.81      0.81       236\n",
      "\n"
     ]
    }
   ],
   "source": [
    "#Classification Report\n",
    "print(classification_report(y_test,pred))"
   ]
  },
  {
   "cell_type": "code",
   "execution_count": null,
   "id": "d0938fcb",
   "metadata": {},
   "outputs": [],
   "source": []
  }
 ],
 "metadata": {
  "kernelspec": {
   "display_name": "Python 3 (ipykernel)",
   "language": "python",
   "name": "python3"
  },
  "language_info": {
   "codemirror_mode": {
    "name": "ipython",
    "version": 3
   },
   "file_extension": ".py",
   "mimetype": "text/x-python",
   "name": "python",
   "nbconvert_exporter": "python",
   "pygments_lexer": "ipython3",
   "version": "3.9.7"
  }
 },
 "nbformat": 4,
 "nbformat_minor": 5
}
