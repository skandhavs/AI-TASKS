{
 "cells": [
  {
   "cell_type": "code",
   "execution_count": 2,
   "id": "91fdb019",
   "metadata": {},
   "outputs": [
    {
     "name": "stdout",
     "output_type": "stream",
     "text": [
      "       ID  10percentage  12percentage       Degree  \\\n",
      "0  604399         87.80         84.00  B.Tech/B.E.   \n",
      "1  988334         57.00         64.50  B.Tech/B.E.   \n",
      "2  301647         77.33         85.17  B.Tech/B.E.   \n",
      "3  582313         84.30         86.00  B.Tech/B.E.   \n",
      "4  339001         82.00         75.00  B.Tech/B.E.   \n",
      "\n",
      "                            Specialization  collegeGPA  English  Logical  \\\n",
      "0  instrumentation and control engineering       73.82      650      665   \n",
      "1           computer science & engineering       65.00      440      435   \n",
      "2         electronics & telecommunications       61.94      485      475   \n",
      "3           computer science & engineering       80.40      675      620   \n",
      "4                            biotechnology       64.30      575      495   \n",
      "\n",
      "   Quant    Domain  ComputerProgramming  ElectronicsAndSemicon  \\\n",
      "0    810  0.694479                  485                    366   \n",
      "1    210  0.342315                  365                     -1   \n",
      "2    505  0.824666                   -1                    400   \n",
      "3    635  0.990009                  655                     -1   \n",
      "4    365  0.278457                  315                     -1   \n",
      "\n",
      "   ComputerScience  MechanicalEngg  ElectricalEngg  TelecomEngg  CivilEngg  \\\n",
      "0               -1              -1              -1           -1         -1   \n",
      "1               -1              -1              -1           -1         -1   \n",
      "2               -1              -1              -1          260         -1   \n",
      "3               -1              -1              -1           -1         -1   \n",
      "4               -1              -1              -1           -1         -1   \n",
      "\n",
      "   conscientiousness  agreeableness  extraversion  nueroticism  \\\n",
      "0            -0.1590         0.3789        1.2396      0.14590   \n",
      "1             1.1336         0.0459        1.2396      0.52620   \n",
      "2             0.5100        -0.1232        1.5428     -0.29020   \n",
      "3            -0.4463         0.2124        0.3174      0.27270   \n",
      "4            -1.4992        -0.7473       -1.0697      0.06223   \n",
      "\n",
      "   openess_to_experience  Salary  \n",
      "0                 0.2889  445000  \n",
      "1                -0.2859  110000  \n",
      "2                -0.2875  255000  \n",
      "3                 0.4805  420000  \n",
      "4                 0.1864  200000  \n"
     ]
    }
   ],
   "source": [
    "import pandas as pd\n",
    "pd.set_option('max_columns', None)\n",
    "df=pd.read_csv(r\"C:\\Users\\skand\\Desktop\\Cognizance\\AI\\Task-3\\Engineering_graduate_salary.csv\")\n",
    "#DROPPED COLUMNS WHICH HAVE VERY LOW IMPORTANCE IN PREDICTING SALARY\n",
    "df2=df.drop(['DOB','Gender','12graduation','10board','12board','CollegeID','CollegeCityID','CollegeTier','CollegeCityTier','GraduationYear','CollegeState'],axis=1)\n",
    "print(df2.head())"
   ]
  },
  {
   "cell_type": "code",
   "execution_count": 3,
   "id": "3c6f1cd8",
   "metadata": {},
   "outputs": [
    {
     "name": "stdout",
     "output_type": "stream",
     "text": [
      "       ID  10percentage  12percentage       Degree  \\\n",
      "0  604399         87.80         84.00  B.Tech/B.E.   \n",
      "1  988334         57.00         64.50  B.Tech/B.E.   \n",
      "2  301647         77.33         85.17  B.Tech/B.E.   \n",
      "3  582313         84.30         86.00  B.Tech/B.E.   \n",
      "4  339001         82.00         75.00  B.Tech/B.E.   \n",
      "\n",
      "                            Specialization  collegeGPA  English  Logical  \\\n",
      "0  instrumentation and control engineering       73.82      650      665   \n",
      "1           computer science & engineering       65.00      440      435   \n",
      "2         electronics & telecommunications       61.94      485      475   \n",
      "3           computer science & engineering       80.40      675      620   \n",
      "4                            biotechnology       64.30      575      495   \n",
      "\n",
      "   Quant    Domain  ComputerProgramming  ElectronicsAndSemicon  \\\n",
      "0    810  0.694479                  485                    366   \n",
      "1    210  0.342315                  365                      0   \n",
      "2    505  0.824666                    0                    400   \n",
      "3    635  0.990009                  655                      0   \n",
      "4    365  0.278457                  315                      0   \n",
      "\n",
      "   ComputerScience  MechanicalEngg  ElectricalEngg  TelecomEngg  CivilEngg  \\\n",
      "0                0               0               0            0          0   \n",
      "1                0               0               0            0          0   \n",
      "2                0               0               0          260          0   \n",
      "3                0               0               0            0          0   \n",
      "4                0               0               0            0          0   \n",
      "\n",
      "   conscientiousness  agreeableness  extraversion  nueroticism  \\\n",
      "0            -0.1590         0.3789        1.2396      0.14590   \n",
      "1             1.1336         0.0459        1.2396      0.52620   \n",
      "2             0.5100        -0.1232        1.5428     -0.29020   \n",
      "3            -0.4463         0.2124        0.3174      0.27270   \n",
      "4            -1.4992        -0.7473       -1.0697      0.06223   \n",
      "\n",
      "   openess_to_experience  Salary  \n",
      "0                 0.2889  445000  \n",
      "1                -0.2859  110000  \n",
      "2                -0.2875  255000  \n",
      "3                 0.4805  420000  \n",
      "4                 0.1864  200000  \n"
     ]
    }
   ],
   "source": [
    "#CONVERTING THE -1 VALUES TO 0 IN THE AMCAT TEST (default values are given as -1 since the student is of different domain)\n",
    "df2['ComputerProgramming']=df2['ComputerProgramming'].replace(-1,0)\n",
    "df2['ElectronicsAndSemicon']=df2['ElectronicsAndSemicon'].replace(-1,0)\n",
    "df2['ComputerScience']=df2['ComputerScience'].replace(-1,0)\n",
    "df2['MechanicalEngg']=df2['MechanicalEngg'].replace(-1,0)\n",
    "df2['ElectricalEngg']=df2['ElectricalEngg'].replace(-1,0)\n",
    "df2['TelecomEngg']=df2['TelecomEngg'].replace(-1,0)\n",
    "df2['CivilEngg']=df2['CivilEngg'].replace(-1,0)\n",
    "print(df2.head())"
   ]
  },
  {
   "cell_type": "code",
   "execution_count": 4,
   "id": "2665d404",
   "metadata": {},
   "outputs": [],
   "source": [
    "#WE CAN USE THE df2 DataFrame for Machine Learning and Analysis \n",
    "#BUT WE CAN USE SELECTIVE DATA FROM THIS df2 AGAIN FOR ANALYSIS"
   ]
  },
  {
   "cell_type": "code",
   "execution_count": 5,
   "id": "e5973575",
   "metadata": {},
   "outputs": [
    {
     "name": "stdout",
     "output_type": "stream",
     "text": [
      "       ID  ComputerProgramming  ElectronicsAndSemicon  ComputerScience  \\\n",
      "0  604399                  485                    366                0   \n",
      "1  988334                  365                      0                0   \n",
      "2  301647                    0                    400                0   \n",
      "3  582313                  655                      0                0   \n",
      "4  339001                  315                      0                0   \n",
      "\n",
      "   MechanicalEngg  ElectricalEngg  TelecomEngg  CivilEngg  Salary  \n",
      "0               0               0            0          0  445000  \n",
      "1               0               0            0          0  110000  \n",
      "2               0               0          260          0  255000  \n",
      "3               0               0            0          0  420000  \n",
      "4               0               0            0          0  200000  \n"
     ]
    }
   ],
   "source": [
    "#EXAMPLE 1 WE CAN USE ONLY AMCAT SCORES(DOMAIN SUBJECTS ALONE) FOR PREDICTION AS TO HOW THESE AFFECT THE SALARY\n",
    "df3=df2[['ID','ComputerProgramming','ElectronicsAndSemicon','ComputerScience','MechanicalEngg','ElectricalEngg','TelecomEngg','CivilEngg','Salary']]\n",
    "print(df3.head())"
   ]
  },
  {
   "cell_type": "code",
   "execution_count": 6,
   "id": "4652f919",
   "metadata": {},
   "outputs": [
    {
     "name": "stdout",
     "output_type": "stream",
     "text": [
      "       ID  conscientiousness  agreeableness  extraversion  nueroticism  \\\n",
      "0  604399            -0.1590         0.3789        1.2396      0.14590   \n",
      "1  988334             1.1336         0.0459        1.2396      0.52620   \n",
      "2  301647             0.5100        -0.1232        1.5428     -0.29020   \n",
      "3  582313            -0.4463         0.2124        0.3174      0.27270   \n",
      "4  339001            -1.4992        -0.7473       -1.0697      0.06223   \n",
      "\n",
      "   openess_to_experience  Salary  \n",
      "0                 0.2889  445000  \n",
      "1                -0.2859  110000  \n",
      "2                -0.2875  255000  \n",
      "3                 0.4805  420000  \n",
      "4                 0.1864  200000  \n"
     ]
    }
   ],
   "source": [
    "#EXAMPLE 2 WE CAN USE ONLY AMCAT SCORES(PERSONALITY TESTS ) FOR PREDICTION AS TO HOW THESE AFFECT THE SALARY\n",
    "df4=df2[['ID','conscientiousness','agreeableness','extraversion','nueroticism','openess_to_experience','Salary']]\n",
    "print(df4.head())"
   ]
  },
  {
   "cell_type": "code",
   "execution_count": 7,
   "id": "1833b919",
   "metadata": {},
   "outputs": [
    {
     "name": "stdout",
     "output_type": "stream",
     "text": [
      "       ID  English  Logical  Quant  Salary\n",
      "0  604399      650      665    810  445000\n",
      "1  988334      440      435    210  110000\n",
      "2  301647      485      475    505  255000\n",
      "3  582313      675      620    635  420000\n",
      "4  339001      575      495    365  200000\n"
     ]
    }
   ],
   "source": [
    "#EXAMPLE 3 WE CAN USE ONLY AMCAT SCORES(LOGICAL AND RELATED TESTS )FOR PREDICTION AS TO HOW THESE AFFECT THE SALARY\n",
    "df5=df2[['ID','English','Logical','Quant','Salary']]\n",
    "print(df5.head())"
   ]
  },
  {
   "cell_type": "code",
   "execution_count": 8,
   "id": "fc3929e9",
   "metadata": {},
   "outputs": [
    {
     "name": "stdout",
     "output_type": "stream",
     "text": [
      "       ID  10percentage  12percentage  collegeGPA  Salary\n",
      "0  604399         87.80         84.00       73.82  445000\n",
      "1  988334         57.00         64.50       65.00  110000\n",
      "2  301647         77.33         85.17       61.94  255000\n",
      "3  582313         84.30         86.00       80.40  420000\n",
      "4  339001         82.00         75.00       64.30  200000\n"
     ]
    }
   ],
   "source": [
    "#EXAMPLE 4 WE CAN USE ONLY 10TH AND 12TH PERCENTAGE AND GPA (ACADEMIC PERFORMANCE) AND SEE HOW THESE AFFECT THE SALARY\n",
    "df6=df2[['ID','10percentage','12percentage','collegeGPA','Salary']]\n",
    "print(df6.head())"
   ]
  },
  {
   "cell_type": "code",
   "execution_count": 9,
   "id": "836e331c",
   "metadata": {},
   "outputs": [],
   "source": [
    "#THE ABOVE 5 EXAMPLES CAN BE USED FOR DATA VISUALISATION TOO AND WE CAN VISUALISE HOW EACH ONE AFFECTS THE SALARY OF A STUDENT\n",
    "#ACCORDINGLY WE CAN PERFORM ANY REGRESSION ALGORITHM\n",
    "#df2 CAN BE USED TO PERFORM ANY REGRESSION ALGORITHMS AND PREDICT SALARY OF A STUDENT"
   ]
  },
  {
   "cell_type": "code",
   "execution_count": 10,
   "id": "60157c6b",
   "metadata": {},
   "outputs": [
    {
     "data": {
      "text/plain": [
       "0"
      ]
     },
     "execution_count": 10,
     "metadata": {},
     "output_type": "execute_result"
    }
   ],
   "source": [
    "#CHECKING FOR DUPLICATE VALUES\n",
    "df2.duplicated().sum()\n"
   ]
  },
  {
   "cell_type": "code",
   "execution_count": 11,
   "id": "5b0f88ea",
   "metadata": {},
   "outputs": [
    {
     "data": {
      "text/plain": [
       "0"
      ]
     },
     "execution_count": 11,
     "metadata": {},
     "output_type": "execute_result"
    }
   ],
   "source": [
    "df3.duplicated().sum()\n"
   ]
  },
  {
   "cell_type": "code",
   "execution_count": 12,
   "id": "a9ccc795",
   "metadata": {},
   "outputs": [
    {
     "data": {
      "text/plain": [
       "0"
      ]
     },
     "execution_count": 12,
     "metadata": {},
     "output_type": "execute_result"
    }
   ],
   "source": [
    "df4.duplicated().sum()\n"
   ]
  },
  {
   "cell_type": "code",
   "execution_count": 13,
   "id": "65689588",
   "metadata": {},
   "outputs": [
    {
     "data": {
      "text/plain": [
       "0"
      ]
     },
     "execution_count": 13,
     "metadata": {},
     "output_type": "execute_result"
    }
   ],
   "source": [
    "df5.duplicated().sum()\n"
   ]
  },
  {
   "cell_type": "code",
   "execution_count": 14,
   "id": "d43a4638",
   "metadata": {},
   "outputs": [
    {
     "data": {
      "text/plain": [
       "0"
      ]
     },
     "execution_count": 14,
     "metadata": {},
     "output_type": "execute_result"
    }
   ],
   "source": [
    "df6.duplicated().sum()"
   ]
  },
  {
   "cell_type": "code",
   "execution_count": 15,
   "id": "d61caf60",
   "metadata": {},
   "outputs": [
    {
     "data": {
      "text/plain": [
       "cbse                                                                           1039\n",
       "state board                                                                     948\n",
       "0                                                                               264\n",
       "icse                                                                            101\n",
       "up board                                                                         74\n",
       "isc                                                                              29\n",
       "board of intermediate                                                            27\n",
       "board of intermediate education                                                  21\n",
       "rbse                                                                             16\n",
       "up                                                                               14\n",
       "chse                                                                             11\n",
       "mp board                                                                         11\n",
       "maharashtra board                                                                10\n",
       "ipe                                                                              10\n",
       "bie                                                                              10\n",
       "hsc                                                                               9\n",
       "maharashtra state board                                                           9\n",
       "wbchse                                                                            9\n",
       "pu board                                                                          7\n",
       "puc                                                                               7\n",
       "hbse                                                                              7\n",
       "ssc                                                                               6\n",
       "intermediate                                                                      6\n",
       "upboard                                                                           6\n",
       "central board of secondary education                                              6\n",
       "matriculation                                                                     6\n",
       "uttar pradesh board                                                               5\n",
       "karnataka state board                                                             5\n",
       "pseb                                                                              5\n",
       "bseb                                                                              5\n",
       "rajasthan board                                                                   5\n",
       "state                                                                             5\n",
       "stateboard                                                                        5\n",
       "west bengal council of higher secondary education                                 5\n",
       "msbte                                                                             5\n",
       "nios                                                                              4\n",
       "bieap                                                                             4\n",
       "board of intermediate education,ap                                                4\n",
       "u p board                                                                         3\n",
       "karnataka pu board                                                                3\n",
       "board of intermediate education, ap                                               3\n",
       "bihar intermediate education council                                              3\n",
       "pre-university                                                                    3\n",
       "intermediate board                                                                3\n",
       "jharkhand academic council                                                        3\n",
       "sbtet                                                                             3\n",
       "uttarakhand board                                                                 3\n",
       "chse,orissa                                                                       3\n",
       "biec,patna                                                                        2\n",
       "apbie                                                                             2\n",
       "wbbhse                                                                            2\n",
       "department of pre-university education                                            2\n",
       "board of intermediate education, andhra pradesh                                   2\n",
       "bte up                                                                            2\n",
       "mp                                                                                2\n",
       "karnataka pre-university board                                                    2\n",
       "maharashtra                                                                       2\n",
       "mpbse                                                                             2\n",
       "nagpur                                                                            2\n",
       "karnataka board                                                                   2\n",
       "pue                                                                               2\n",
       "gsheb                                                                             2\n",
       "kerala state board                                                                2\n",
       "pre-university board                                                              2\n",
       "board of intermediate ap                                                          2\n",
       "karnataka pre university board                                                    2\n",
       "bihar board                                                                       2\n",
       "gshseb                                                                            1\n",
       "up bord                                                                           1\n",
       "staae board                                                                       1\n",
       "bciec,patna                                                                       1\n",
       "intermidiate                                                                      1\n",
       "cbse board                                                                        1\n",
       "dept of pre-university education                                                  1\n",
       "gujarat board                                                                     1\n",
       "chse,odisha                                                                       1\n",
       "latur board                                                                       1\n",
       "up board allahabad                                                                1\n",
       "andhra pradesh state board                                                        1\n",
       "maharashtra state(latur board)                                                    1\n",
       "mpboard                                                                           1\n",
       "karnataka pre unversity board                                                     1\n",
       "u p                                                                               1\n",
       "punjab state board of technical education & industrial training, chandigarh       1\n",
       "bihar school examination board patna                                              1\n",
       "ap board for intermediate education                                               1\n",
       "scte&vt                                                                           1\n",
       "board of intermediate,ap                                                          1\n",
       "aligarh muslim university                                                         1\n",
       "himachal pradesh board of school education                                        1\n",
       "board of intermediate education:ap,hyderabad                                      1\n",
       "jharkhand acamedic council (ranchi)                                               1\n",
       "bsemp                                                                             1\n",
       "jharkhand acedemic council                                                        1\n",
       "board of school education harayana                                                1\n",
       "department of pre university education                                            1\n",
       "intermediate board of education,andhra pradesh                                    1\n",
       "board of intermeadiate education                                                  1\n",
       "karnataka pre-university                                                          1\n",
       "tamil nadu polytechnic                                                            1\n",
       "intermediate board of education                                                   1\n",
       "andhra pradesh board of secondary education                                       1\n",
       "department of pre-university education, bangalore                                 1\n",
       "dpue                                                                              1\n",
       "andhra pradesh                                                                    1\n",
       "jawahar higher secondary school                                                   1\n",
       "scte and vt ,orissa                                                               1\n",
       "karnataka secondary education board                                               1\n",
       "mp board bhopal                                                                   1\n",
       "isc board                                                                         1\n",
       "biec                                                                              1\n",
       "intermediate board of andhra pardesh                                              1\n",
       "science college                                                                   1\n",
       "dav public school,hehal                                                           1\n",
       "board of technicaleducation ,delhi                                                1\n",
       "maharashtra board, pune                                                           1\n",
       "punjab state board of technical education & industrial training                   1\n",
       "board of higher secondary orissa                                                  1\n",
       "sjrcw                                                                             1\n",
       "state board of technical eduction panchkula                                       1\n",
       "apsb                                                                              1\n",
       "board of intermediate education,andra pradesh                                     1\n",
       "stateboard/tamil nadu                                                             1\n",
       "board of intermidiate education,ap                                                1\n",
       "himachal pradesh board                                                            1\n",
       "ghseb                                                                             1\n",
       "biec-patna                                                                        1\n",
       "uttaranchal shiksha avam pariksha parishad                                        1\n",
       "kolhapur                                                                          1\n",
       "international baccalaureate (ib) diploma                                          1\n",
       "board of intermediate(bie)                                                        1\n",
       "bice                                                                              1\n",
       "state board of technical education and training                                   1\n",
       "secnior secondary education board of rajasthan                                    1\n",
       "karnataka sslc                                                                    1\n",
       "dote (diploma - computer engg)                                                    1\n",
       "isc board , new delhi                                                             1\n",
       "state broad                                                                       1\n",
       "karnatak pu board                                                                 1\n",
       "ua                                                                                1\n",
       "hsc pune                                                                          1\n",
       "maharashtra nasik board                                                           1\n",
       "sda matric higher secondary school                                                1\n",
       "rajasthan board ajmer                                                             1\n",
       "technical board, punchkula                                                        1\n",
       "apbsc                                                                             1\n",
       "biec patna                                                                        1\n",
       "electonincs and communication(dote)                                               1\n",
       "bright way college, (up board)                                                    1\n",
       "j & k board                                                                       1\n",
       "mbose                                                                             1\n",
       "msbshse,pune                                                                      1\n",
       "intermediate council patna                                                        1\n",
       "scte & vt (diploma)                                                               1\n",
       "karnataka secondary education                                                     1\n",
       "karnataka board of university                                                     1\n",
       " board of intermediate                                                            1\n",
       "chse, odisha                                                                      1\n",
       "tamilnadu state board                                                             1\n",
       "karnataka pu                                                                      1\n",
       "intermediate state board                                                          1\n",
       "stjoseph of cluny matrhrsecschool,neyveli,cuddalore district                      1\n",
       "wbscte                                                                            1\n",
       "board of high school and intermediate education uttarpradesh                      1\n",
       "andhpradesh board of intermediate education                                       1\n",
       "msbte (diploma in computer technology)                                            1\n",
       "upbhsie                                                                           1\n",
       "jstb,jharkhand                                                                    1\n",
       "up board , allahabad                                                              1\n",
       "state board                                                                       1\n",
       "puboard                                                                           1\n",
       "state board - west bengal council of higher secondary education : wbchse          1\n",
       "pu board ,karnataka                                                               1\n",
       "cgbse                                                                             1\n",
       "hse                                                                               1\n",
       "sri kannika parameswari highier secondary school, udumalpet                       1\n",
       "maharashtra satate board                                                          1\n",
       "kerala state hse board                                                            1\n",
       "pu board karnataka                                                                1\n",
       "state board (jac, ranchi)                                                         1\n",
       "dav public school                                                                 1\n",
       "uo board                                                                          1\n",
       "up baord                                                                          1\n",
       "karnataka state pre- university board                                             1\n",
       "board of higher secondary examination, kerala                                     1\n",
       "sbte, jharkhand                                                                   1\n",
       "department of technical education, bangalore                                      1\n",
       "west bengal state council of technical education                                  1\n",
       "madhya pradesh board                                                              1\n",
       "board of secondary school of education                                            1\n",
       "board of intmediate education ap                                                  1\n",
       "bteup                                                                             1\n",
       "pub                                                                               1\n",
       "diploma in computers                                                              1\n",
       "board of secondary education, rajasthan                                           1\n",
       "pre university board, karnataka                                                   1\n",
       "ap board                                                                          1\n",
       "j&k state board of school education                                               1\n",
       "department of technical education                                                 1\n",
       "all india board                                                                   1\n",
       "state board of technical education harayana                                       1\n",
       "rajasthan board of secondary education                                            1\n",
       "council for indian school certificate examination                                 1\n",
       "kea                                                                               1\n",
       "board of intermediate education,hyderabad                                         1\n",
       "hisher seconadry examination(state board)                                         1\n",
       "board fo intermediate education, ap                                               1\n",
       "karnataka state                                                                   1\n",
       "directorate of technical education,banglore                                       1\n",
       "tn state board                                                                    1\n",
       "baord of intermediate education                                                   1\n",
       "p u board, karnataka                                                              1\n",
       "andhra board                                                                      1\n",
       "pu                                                                                1\n",
       "uttar pradesh                                                                     1\n",
       "pre university board of karnataka                                                 1\n",
       "madhya pradesh open school                                                        1\n",
       "nagpur divisional board                                                           1\n",
       "jkbose                                                                            1\n",
       "higher secondary state certificate                                                1\n",
       "jaswant modern school                                                             1\n",
       "up bourd                                                                          1\n",
       "pre university board                                                              1\n",
       "cbsc                                                                              1\n",
       "jaycee matriculation school                                                       1\n",
       "state board - tamilnadu                                                           1\n",
       "sri chaitanya junior kalasala                                                     1\n",
       "state  board of intermediate education, andhra pradesh                            1\n",
       "maharashtra state board for hsc                                                   1\n",
       "pune board                                                                        1\n",
       "uttaranchal state board                                                           1\n",
       "uttranchal board                                                                  1\n",
       "ap intermediate board                                                             1\n",
       "srv girls higher sec school,rasipuram                                             1\n",
       "nagpur board                                                                      1\n",
       "dte                                                                               1\n",
       "aissce                                                                            1\n",
       "ibe                                                                               1\n",
       "diploma ( maharashtra state board of technical education)                         1\n",
       "west bengal board of higher secondary education                                   1\n",
       "hbsc                                                                              1\n",
       "state bord                                                                        1\n",
       "gseb                                                                              1\n",
       "biec, patna                                                                       1\n",
       "diploma in engg (e &tc) tilak maharashtra vidayapeeth                             1\n",
       "psbte                                                                             1\n",
       "central board of secondary education, new delhi                                   1\n",
       "pre university                                                                    1\n",
       "nashik board                                                                      1\n",
       "aurangabad board                                                                  1\n",
       "board of technical education                                                      1\n",
       "uttrakhand board                                                                  1\n",
       "amravati divisional board                                                         1\n",
       "certificate for higher secondary education (chse)orissa                           1\n",
       "s j polytechnic                                                                   1\n",
       "bseb, patna                                                                       1\n",
       "ks rangasamy institute of technology                                              1\n",
       "tamilnadu stateboard                                                              1\n",
       "board of intermediate education,andhra pradesh                                    1\n",
       "diploma(msbte)                                                                    1\n",
       "tamilnadu higher secondary education board                                        1\n",
       "board of intermidiate                                                             1\n",
       "department of pre-university education(government of karnataka)                   1\n",
       "karnataka board secondary education                                               1\n",
       "secondary board of rajasthan                                                      1\n",
       "intermediate board examination                                                    1\n",
       "govt of karnataka department of pre-university education                          1\n",
       "intermedite                                                                       1\n",
       "up(allahabad)                                                                     1\n",
       "mpc                                                                               1\n",
       "rbse (state board)                                                                1\n",
       "hsc maharashtra board                                                             1\n",
       "state syllabus                                                                    1\n",
       "up board,allahabad                                                                1\n",
       "scte vt orissa                                                                    1\n",
       "intermideate                                                                      1\n",
       "karnataka education board                                                         1\n",
       "Name: 12board, dtype: int64"
      ]
     },
     "execution_count": 15,
     "metadata": {},
     "output_type": "execute_result"
    }
   ],
   "source": [
    "pd.set_option(\"display.max_rows\", None)\n",
    "df['12board'].value_counts()\n",
    "#THIS COLUMN OF DATA HAS MANY DUPLICATES AND WRONG DATA SO IT IS BEST WE DONT TAKE THIS COLUMN IN OUR MODEL"
   ]
  },
  {
   "cell_type": "code",
   "execution_count": 16,
   "id": "510328a4",
   "metadata": {},
   "outputs": [
    {
     "data": {
      "text/plain": [
       "electronics and communication engineering      670\n",
       "computer science & engineering                 557\n",
       "information technology                         506\n",
       "computer engineering                           415\n",
       "computer application                           201\n",
       "mechanical engineering                         155\n",
       "electronics and electrical engineering         148\n",
       "electronics & telecommunications                89\n",
       "electrical engineering                          63\n",
       "electronics & instrumentation eng               24\n",
       "instrumentation and control engineering         18\n",
       "information science engineering                 18\n",
       "electronics and instrumentation engineering     18\n",
       "civil engineering                               15\n",
       "electronics engineering                         13\n",
       "biotechnology                                   12\n",
       "other                                           10\n",
       "industrial & production engineering              8\n",
       "chemical engineering                             7\n",
       "applied electronics and instrumentation          5\n",
       "mechanical and automation                        5\n",
       "telecommunication engineering                    4\n",
       "automobile/automotive engineering                4\n",
       "computer science and technology                  4\n",
       "aeronautical engineering                         3\n",
       "instrumentation engineering                      3\n",
       "electronics and computer engineering             3\n",
       "mechatronics                                     3\n",
       "metallurgical engineering                        2\n",
       "industrial engineering                           2\n",
       "biomedical engineering                           2\n",
       "information & communication technology           1\n",
       "electronics                                      1\n",
       "embedded systems technology                      1\n",
       "industrial & management engineering              1\n",
       "electrical and power engineering                 1\n",
       "computer and communication engineering           1\n",
       "mechanical & production engineering              1\n",
       "control and instrumentation engineering          1\n",
       "ceramic engineering                              1\n",
       "computer networking                              1\n",
       "information science                              1\n",
       "Name: Specialization, dtype: int64"
      ]
     },
     "execution_count": 16,
     "metadata": {},
     "output_type": "execute_result"
    }
   ],
   "source": [
    "df['Specialization'].value_counts()\n"
   ]
  },
  {
   "cell_type": "code",
   "execution_count": 19,
   "id": "fcbcdb8b",
   "metadata": {},
   "outputs": [
    {
     "data": {
      "text/plain": [
       "electronics and communication engineering      670\n",
       "computer science & engineering                 557\n",
       "information technology                         506\n",
       "computer engineering                           415\n",
       "computer application                           201\n",
       "mechanical engineering                         155\n",
       "electronics and electrical engineering         148\n",
       "electronics & telecommunications                89\n",
       "Others                                          76\n",
       "electrical engineering                          63\n",
       "electronics & instrumentation eng               24\n",
       "electronics and instrumentation engineering     18\n",
       "instrumentation and control engineering         18\n",
       "information science engineering                 18\n",
       "civil engineering                               15\n",
       "electronics engineering                         13\n",
       "biotechnology                                   12\n",
       "Name: Specialization, dtype: int64"
      ]
     },
     "execution_count": 19,
     "metadata": {},
     "output_type": "execute_result"
    }
   ],
   "source": [
    "# COURSES WHICH HAVE LESS THAN 1 ARE ADDED TO OTHERS COLUMN \n",
    "specialization = df2.Specialization.value_counts() \n",
    "lt10 = specialization[specialization<=10]\n",
    "lt10\n",
    "def corSpec(val):\n",
    "    if val in lt10:\n",
    "        return 'Others'\n",
    "    else:\n",
    "        return val\n",
    "df2['Specialization'] = df2['Specialization'].apply(corSpec)\n",
    "df2['Specialization'].value_counts()"
   ]
  },
  {
   "cell_type": "code",
   "execution_count": 22,
   "id": "7aea50b9",
   "metadata": {},
   "outputs": [
    {
     "name": "stdout",
     "output_type": "stream",
     "text": [
      "       ID  10percentage  12percentage       Degree  \\\n",
      "0  604399         87.80         84.00  B.Tech/B.E.   \n",
      "1  988334         57.00         64.50  B.Tech/B.E.   \n",
      "2  301647         77.33         85.17  B.Tech/B.E.   \n",
      "3  582313         84.30         86.00  B.Tech/B.E.   \n",
      "4  339001         82.00         75.00  B.Tech/B.E.   \n",
      "\n",
      "                            Specialization  collegeGPA  English  Logical  \\\n",
      "0  instrumentation and control engineering       73.82      650      665   \n",
      "1           computer science & engineering       65.00      440      435   \n",
      "2         electronics & telecommunications       61.94      485      475   \n",
      "3           computer science & engineering       80.40      675      620   \n",
      "4                            biotechnology       64.30      575      495   \n",
      "\n",
      "   Quant    Domain  ComputerProgramming  ElectronicsAndSemicon  \\\n",
      "0    810  0.694479                  485                    366   \n",
      "1    210  0.342315                  365                      0   \n",
      "2    505  0.824666                    0                    400   \n",
      "3    635  0.990009                  655                      0   \n",
      "4    365  0.278457                  315                      0   \n",
      "\n",
      "   ComputerScience  MechanicalEngg  ElectricalEngg  TelecomEngg  CivilEngg  \\\n",
      "0                0               0               0            0          0   \n",
      "1                0               0               0            0          0   \n",
      "2                0               0               0          260          0   \n",
      "3                0               0               0            0          0   \n",
      "4                0               0               0            0          0   \n",
      "\n",
      "   conscientiousness  agreeableness  extraversion  nueroticism  \\\n",
      "0            -0.1590         0.3789        1.2396      0.14590   \n",
      "1             1.1336         0.0459        1.2396      0.52620   \n",
      "2             0.5100        -0.1232        1.5428     -0.29020   \n",
      "3            -0.4463         0.2124        0.3174      0.27270   \n",
      "4            -1.4992        -0.7473       -1.0697      0.06223   \n",
      "\n",
      "   openess_to_experience  Salary  \n",
      "0                 0.2889  445000  \n",
      "1                -0.2859  110000  \n",
      "2                -0.2875  255000  \n",
      "3                 0.4805  420000  \n",
      "4                 0.1864  200000  \n"
     ]
    }
   ],
   "source": [
    "#FINAL LOOK AT THE DATA\n",
    "print(df2.head())"
   ]
  },
  {
   "cell_type": "code",
   "execution_count": null,
   "id": "b799443e",
   "metadata": {},
   "outputs": [],
   "source": []
  }
 ],
 "metadata": {
  "kernelspec": {
   "display_name": "Python 3 (ipykernel)",
   "language": "python",
   "name": "python3"
  },
  "language_info": {
   "codemirror_mode": {
    "name": "ipython",
    "version": 3
   },
   "file_extension": ".py",
   "mimetype": "text/x-python",
   "name": "python",
   "nbconvert_exporter": "python",
   "pygments_lexer": "ipython3",
   "version": "3.9.7"
  }
 },
 "nbformat": 4,
 "nbformat_minor": 5
}
